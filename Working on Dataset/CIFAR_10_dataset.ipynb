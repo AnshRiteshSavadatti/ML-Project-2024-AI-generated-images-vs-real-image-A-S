{
  "nbformat": 4,
  "nbformat_minor": 0,
  "metadata": {
    "colab": {
      "provenance": []
    },
    "kernelspec": {
      "name": "python3",
      "display_name": "Python 3"
    },
    "language_info": {
      "name": "python"
    }
  },
  "cells": [
    {
      "cell_type": "markdown",
      "source": [
        "Trying out CIRF-10 data set for our project of Real vs AI-generated image detection"
      ],
      "metadata": {
        "id": "Ju1ifORxcEzL"
      }
    },
    {
      "cell_type": "code",
      "execution_count": 21,
      "metadata": {
        "id": "ssCC-WdkWa4R"
      },
      "outputs": [],
      "source": [
        "import torch\n",
        "import torchvision\n",
        "import torchvision.transforms as transforms\n",
        "import numpy as np\n",
        "import pandas as pd\n",
        "import matplotlib.pyplot as plt"
      ]
    },
    {
      "cell_type": "code",
      "source": [
        "transform = transforms.Compose([\n",
        "    transforms.ToTensor(),  # Converts images to PyTorch tensors\n",
        "    transforms.Normalize((0.5, 0.5, 0.5), (0.5, 0.5, 0.5))  # Normalize for CIFAR-10\n",
        "])"
      ],
      "metadata": {
        "id": "39KSFrrnasVs"
      },
      "execution_count": 17,
      "outputs": []
    },
    {
      "cell_type": "code",
      "source": [
        "trainset = torchvision.datasets.CIFAR10(root='./data', train=True,\n",
        "                                        download=True, transform=transform)\n",
        "trainloader = torch.utils.data.DataLoader(trainset, batch_size=4,\n",
        "                                          shuffle=True, num_workers=2)\n",
        "\n",
        "testset = torchvision.datasets.CIFAR10(root='./data', train=False,\n",
        "                                       download=True, transform=transform)\n",
        "testloader = torch.utils.data.DataLoader(testset, batch_size=4,\n",
        "                                         shuffle=False, num_workers=2)"
      ],
      "metadata": {
        "colab": {
          "base_uri": "https://localhost:8080/"
        },
        "id": "QZZWcOdNW1yc",
        "outputId": "dfb18c87-7c26-4a48-fd4d-204b31a0b52b"
      },
      "execution_count": 18,
      "outputs": [
        {
          "output_type": "stream",
          "name": "stdout",
          "text": [
            "Files already downloaded and verified\n",
            "Files already downloaded and verified\n"
          ]
        }
      ]
    },
    {
      "cell_type": "code",
      "source": [
        "def unnormalize(img):\n",
        "    img = img * 0.5 + 0.5  # Undo the normalization (which was normalized by 0.5 mean, 0.5 std)\n",
        "    return img"
      ],
      "metadata": {
        "id": "UpYNZkSqbR04"
      },
      "execution_count": 23,
      "outputs": []
    },
    {
      "cell_type": "code",
      "source": [
        "def imshow(img):\n",
        "    # Convert tensor to numpy array and transpose it for display\n",
        "    img = unnormalize(img)\n",
        "    npimg = img.numpy().transpose((1, 2, 0))\n",
        "    npimg = np.clip(npimg, 0, 1)  # Unnormalize for proper display\n",
        "    plt.imshow(npimg)\n",
        "    plt.axis('off')\n",
        "    plt.show()"
      ],
      "metadata": {
        "id": "oPjy4BXIYZZe"
      },
      "execution_count": 24,
      "outputs": []
    },
    {
      "cell_type": "code",
      "source": [
        "def show_few_images(images, num_to_show=2):\n",
        "    # Select only a subset of the images (e.g., first 'num_to_show' images)\n",
        "    selected_images = images[:num_to_show]  # Select first few images\n",
        "\n",
        "    # Create a grid with the selected images\n",
        "    imshow(torchvision.utils.make_grid(selected_images))"
      ],
      "metadata": {
        "id": "tXqG4pBda3RE"
      },
      "execution_count": 25,
      "outputs": []
    },
    {
      "cell_type": "code",
      "source": [
        "# Get some random training images\n",
        "dataiter = iter(trainloader)\n",
        "images, labels = next(dataiter)\n",
        "\n",
        "# Show only the first 2 images from the batch\n",
        "show_few_images(images, num_to_show=2)"
      ],
      "metadata": {
        "colab": {
          "base_uri": "https://localhost:8080/",
          "height": 292
        },
        "id": "McqhFfCaa5Ef",
        "outputId": "b43490cb-036b-4187-e369-6d71bd1cdf1d"
      },
      "execution_count": 26,
      "outputs": [
        {
          "output_type": "display_data",
          "data": {
            "text/plain": [
              "<Figure size 640x480 with 1 Axes>"
            ],
            "image/png": "[encoded data removed]"
          },
          "metadata": {}
        }
      ]
    },
    {
      "cell_type": "code",
      "source": [
        "def show_original_image(img):\n",
        "    img = unnormalize(img)  # Unnormalize the image\n",
        "    npimg = img.numpy().transpose((1, 2, 0))  # Convert tensor to numpy array and transpose\n",
        "    npimg = np.clip(npimg, 0, 1)  # Ensure values are in the range [0, 1]\n",
        "\n",
        "    plt.figure(figsize=(1, 1))  # Set figure size to 32x32 pixels\n",
        "    plt.imshow(npimg, interpolation='nearest')  # Disable interpolation for sharp display\n",
        "    plt.axis('off')  # Hide axes for better visualization\n",
        "    plt.show()\n",
        "\n",
        "# Get some random training images\n",
        "dataiter = iter(trainloader)\n",
        "images, labels = next(dataiter)\n",
        "\n",
        "# Show only the first image from the batch in its original 32x32 form\n",
        "show_original_image(images[0])"
      ],
      "metadata": {
        "colab": {
          "base_uri": "https://localhost:8080/",
          "height": 114
        },
        "id": "uLavDhB-bhnv",
        "outputId": "966d75a5-b9f8-4f6a-c346-b03b9c3a3bc5"
      },
      "execution_count": 28,
      "outputs": [
        {
          "output_type": "display_data",
          "data": {
            "text/plain": [
              "<Figure size 100x100 with 1 Axes>"
            ],
            "image/png": "[encoded data removed]"
          },
          "metadata": {}
        }
      ]
    },
    {
      "cell_type": "code",
      "source": [
        "train_images = trainset.data.reshape(trainset.data.shape[0], -1)\n",
        "test_images = testset.data.reshape(testset.data.shape[0], -1)\n",
        "\n",
        "combined_data = np.vstack((train_images, test_images))\n",
        "df = pd.DataFrame(combined_data)"
      ],
      "metadata": {
        "id": "3y_8G-f2dP5y"
      },
      "execution_count": 31,
      "outputs": []
    },
    {
      "cell_type": "code",
      "source": [
        "print(df.head())"
      ],
      "metadata": {
        "colab": {
          "base_uri": "https://localhost:8080/"
        },
        "id": "IF6vbEbDdSmv",
        "outputId": "e489d796-c373-4e96-fa67-788326dfdfce"
      },
      "execution_count": 32,
      "outputs": [
        {
          "output_type": "stream",
          "name": "stdout",
          "text": [
            "   0     1     2     3     4     5     6     7     8     9     ...  3062  \\\n",
            "0    59    62    63    43    46    45    50    48    43    68  ...   104   \n",
            "1   154   177   187   126   137   136   105   104    95   102  ...   136   \n",
            "2   255   255   255   253   253   253   253   253   253   253  ...    79   \n",
            "3    28    25    10    37    34    19    38    35    20    42  ...    38   \n",
            "4   170   180   198   168   178   196   177   185   203   183  ...    78   \n",
            "\n",
            "   3063  3064  3065  3066  3067  3068  3069  3070  3071  \n",
            "0   216   184   140   151   118    84   123    92    72  \n",
            "1   143   133   139   143   134   142   143   133   144  \n",
            "2    78    85    83    79    85    83    80    86    84  \n",
            "3    54    47    28    63    56    37    72    65    46  \n",
            "4    75    79    82    71    75    78    73    77    80  \n",
            "\n",
            "[5 rows x 3072 columns]\n"
          ]
        }
      ]
    },
    {
      "cell_type": "markdown",
      "source": [
        "Using the CIFAR-10 dataset for differentiating between AI-generated images and real images may not be ideal due to its low resolution (32x32 pixels) and limited diversity."
      ],
      "metadata": {
        "id": "OgAiLk9XdEqx"
      }
    }
  ]
}